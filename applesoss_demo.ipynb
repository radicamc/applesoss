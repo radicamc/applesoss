{
 "cells": [
  {
   "cell_type": "markdown",
   "metadata": {},
   "source": [
    "# Walkthrough notebook for the APPLESOSS (A Producer of ProfiLEs for SOSS) Module\n",
    "Construct spatial profiles based on a given observed dataset for the first three SOSS orders to be used as the specprofile reference file in the ATOCA algorithm."
   ]
  },
  {
   "cell_type": "code",
   "execution_count": null,
   "metadata": {
    "scrolled": true
   },
   "outputs": [],
   "source": [
    "from astropy.io import fits\n",
    "import matplotlib.pyplot as plt\n",
    "import numpy as np\n",
    "\n",
    "from applesoss import applesoss\n",
    "from applesoss.edgetrigger_centroids import get_soss_centroids"
   ]
  },
  {
   "cell_type": "markdown",
   "metadata": {},
   "source": [
    "### Test the edgetrigger centroiding algorithm\n",
    "\n",
    "The edgetrigger algorithm locates the centroid of the curved SOSS trace for all three orders as the median between the trace edges. "
   ]
  },
  {
   "cell_type": "code",
   "execution_count": null,
   "metadata": {},
   "outputs": [],
   "source": [
    "# Open a simulated data set, as well as spectrace and 2D wavelength solution reference files.\n",
    "clear = fits.getdata('applesoss/Ref_files/simulated_data.fits', 0)\n",
    "spectrace = 'applesoss/Ref_files/jwst_niriss_spectrace_0023.fits'\n",
    "wavemap = 'applesoss/Ref_files/jwst_niriss_wavemap_0013.fits'"
   ]
  },
  {
   "cell_type": "code",
   "execution_count": null,
   "metadata": {},
   "outputs": [],
   "source": [
    "# Get the trace centroids for all three orders.\n",
    "floor = np.nanpercentile(clear, 0.1)\n",
    "clear -= floor  # Remove floor level to make all pixels positive. \n",
    "cen = get_soss_centroids(clear, spectrace, subarray='SUBSTRIP256')\n",
    "\n",
    "# Plot the data frames\n",
    "fig = plt.figure(figsize=(8, 3), facecolor='white')\n",
    "plt.imshow(np.log10(clear), origin='lower', aspect='auto')\n",
    "plt.plot(cen['order 1']['X centroid'], cen['order 1']['Y centroid'], ls=':', c='black')\n",
    "plt.plot(cen['order 2']['X centroid'], cen['order 2']['Y centroid'], ls=':', c='black')\n",
    "plt.plot(cen['order 3']['X centroid'], cen['order 3']['Y centroid'], ls=':', c='black')\n",
    "\n",
    "plt.xlabel('Spectral Pixel', fontsize=16)\n",
    "plt.ylabel('Spatial Pixel', fontsize=16)\n",
    "plt.ylim(0, 256)\n",
    "plt.show()\n",
    "\n",
    "# Add back the floor level\n",
    "clear += floor"
   ]
  },
  {
   "cell_type": "markdown",
   "metadata": {},
   "source": [
    "### Build the spatial profiles\n",
    "The ```EmpiricalProfile``` class of APPLESOSS is the workhorse of this module. To initialize it, it requires a CLEAR exposure data frame, as well as the 2D wavelength solution and spectrace reference files. Optional arguments are the amount of padding to add around the edges of the frames, as well as the factor of oversampling.  \n",
    "\n",
    "Call ```build_empirical_profile``` once the class is initialized to reconstruct the spatial profiles for the first, second, and third orders. \n",
    "\n",
    "Afterwards, the ```write_specprofile_reference``` method can be called to save the profiles to an external file for use as the specprofile reference file needed by the ATOCA algorithm."
   ]
  },
  {
   "cell_type": "code",
   "execution_count": null,
   "metadata": {
    "scrolled": true
   },
   "outputs": [],
   "source": [
    "clear = fits.getdata('APPLESOSS/Ref_files/simulated_data.fits', 0)\n",
    "wavemap = 'APPLESOSS/Ref_files/jwst_niriss_wavemap_0013.fits'\n",
    "spectrace = 'APPLESOSS/Ref_files/jwst_niriss_spectrace_0023.fits'\n",
    "\n",
    "spat_prof = applesoss.EmpiricalProfile(clear, wavemap, spectrace)\n",
    "spat_prof.build_empirical_profile(verbose=1, wave_increment=0.1)"
   ]
  },
  {
   "cell_type": "code",
   "execution_count": null,
   "metadata": {},
   "outputs": [],
   "source": [
    "# Show the spatial profile models for each order.\n",
    "fig, ax = plt.subplots(3, figsize=(10, 8), facecolor='white')\n",
    "\n",
    "ax1 = ax[0]\n",
    "ax1.imshow(spat_prof.order1, origin='lower', aspect='auto', vmax=0.061, vmin=0.001)\n",
    "ax1.xaxis.set_major_formatter(plt.NullFormatter())\n",
    "plt.yticks(fontsize=12)\n",
    "ax1.text(25, 220, 'Order 1', fontsize=18, c='white')\n",
    "\n",
    "ax2 = ax[1]\n",
    "aa = ax2.imshow(spat_prof.order2, origin='lower', aspect='auto', vmin=0.001, vmax=0.061)\n",
    "cax = ax2.inset_axes([1.01, -0.75, 0.025, 2.5], transform=ax2.transAxes)\n",
    "cbar = plt.colorbar(aa, ax=ax[:], cax=cax)\n",
    "cbar.set_label(r'Column Normalized Counts', rotation=270, fontsize=18, labelpad=18)\n",
    "cbar.ax.tick_params(labelsize=12)\n",
    "\n",
    "ax2.xaxis.set_major_formatter(plt.NullFormatter())\n",
    "ax2.set_ylabel('Spatial Pixel', fontsize=18)\n",
    "plt.yticks(fontsize=12)\n",
    "ax2.text(25, 220, 'Order 2', fontsize=18, c='white')\n",
    "\n",
    "ax3 = ax[2]\n",
    "ax3.imshow(spat_prof.order3, origin='lower', aspect='auto', vmin=0.001, vmax=0.061)\n",
    "ax3.set_xlabel('Spectral Pixel', fontsize=18)\n",
    "ax3.text(25, 220, 'Order 3', fontsize=18, c='white')\n",
    "\n",
    "plt.subplots_adjust(hspace=0.1)\n",
    "plt.xticks(fontsize=12)\n",
    "plt.yticks(fontsize=12)\n",
    "plt.show()"
   ]
  },
  {
   "cell_type": "code",
   "execution_count": null,
   "metadata": {},
   "outputs": [],
   "source": [
    "# Create a SUBSTRIP256 spatial profile reference file\n",
    "spat_prof.write_specprofile_reference('SUBSTRIP256')"
   ]
  }
 ],
 "metadata": {
  "kernelspec": {
   "display_name": "atoca",
   "language": "python",
   "name": "atoca"
  },
  "language_info": {
   "codemirror_mode": {
    "name": "ipython",
    "version": 3
   },
   "file_extension": ".py",
   "mimetype": "text/x-python",
   "name": "python",
   "nbconvert_exporter": "python",
   "pygments_lexer": "ipython3",
   "version": "3.10.4"
  }
 },
 "nbformat": 4,
 "nbformat_minor": 4
}
